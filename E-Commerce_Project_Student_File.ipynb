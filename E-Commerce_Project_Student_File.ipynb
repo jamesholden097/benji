{
 "cells": [
  {
   "cell_type": "markdown",
   "id": "6a7d5404",
   "metadata": {},
   "source": [
    "<font color='blue'>\n",
    "    <font size = 5>\n",
    "        You have been given the role of a business analyst for an E-Commerce company and have been asked to prepare a basic report on the data. Follow the steps below for preparation of the report. \n",
    "\n",
    "Before you start analysing the data, it is always a good practice to see the size of the data, its features and feature types. If the data set is big, it is not possible to print out all the records. \n",
    "    </font>\n",
    "####  Note: Use the markdown feature of Python to explain your answer.\n",
    "    "
   ]
  },
  {
   "cell_type": "markdown",
   "id": "daf5d935",
   "metadata": {},
   "source": [
    "## Load the necessary libraries. Import and load the dataset with a name ECom_Data ."
   ]
  },
  {
   "cell_type": "code",
   "execution_count": 111,
   "id": "eec2a3b5",
   "metadata": {},
   "outputs": [],
   "source": [
    "import numpy as np\n",
    "import pandas as pd\n",
    "import matplotlib.pyplot as plt\n",
    "import seaborn as sns\n",
    "pd.options.display.max_rows = 5"
   ]
  },
  {
   "cell_type": "code",
   "execution_count": 112,
   "id": "8e1fcc97",
   "metadata": {},
   "outputs": [],
   "source": [
    "# Get the Data\n",
    "\n",
    "ECom_Data=pd.read_csv(\"E-Commerce.csv\")\n",
    "\n"
   ]
  },
  {
   "cell_type": "markdown",
   "id": "2cf5f20f",
   "metadata": {},
   "source": [
    "<font color='blue'>\n",
    "    <font size = 5>\n",
    "        We have read the data and stored the data in \"ECom_Data\" variable </font>"
   ]
  },
  {
   "cell_type": "markdown",
   "id": "a0a4f84a",
   "metadata": {},
   "source": [
    "## Q 1.\tTo get familiar with the data\n",
    "## a)\tPrint out the first 10 and the last 10 records of the data. (2 marks)\n",
    "## b)\tHow many rows and columns are present in the dataset? Use any two different methods to extract this information. (2 + 2 + 2 marks)\n",
    "## c)\tHow many object data types are there? (1 mark)\n",
    "## d)\tIs there any Boolean data type? (1 mark) \n",
    "#### Note: Use the markdown feature of Python to explain your answer.\n"
   ]
  },
  {
   "cell_type": "code",
   "execution_count": null,
   "id": "55ad77c3",
   "metadata": {},
   "outputs": [],
   "source": []
  },
  {
   "cell_type": "markdown",
   "id": "0ba43d74",
   "metadata": {},
   "source": [
    "#### Ans 1 a)"
   ]
  },
  {
   "cell_type": "code",
   "execution_count": 113,
   "id": "6684f5a1",
   "metadata": {},
   "outputs": [
    {
     "data": {
      "text/html": [
       "<div>\n",
       "<style scoped>\n",
       "    .dataframe tbody tr th:only-of-type {\n",
       "        vertical-align: middle;\n",
       "    }\n",
       "\n",
       "    .dataframe tbody tr th {\n",
       "        vertical-align: top;\n",
       "    }\n",
       "\n",
       "    .dataframe thead th {\n",
       "        text-align: right;\n",
       "    }\n",
       "</style>\n",
       "<table border=\"1\" class=\"dataframe\">\n",
       "  <thead>\n",
       "    <tr style=\"text-align: right;\">\n",
       "      <th></th>\n",
       "      <th>Customer_uniq_id</th>\n",
       "      <th>Region</th>\n",
       "      <th>Order_Date</th>\n",
       "      <th>Expected_Delivery_Date</th>\n",
       "      <th>Delivered_Date</th>\n",
       "      <th>product_name</th>\n",
       "      <th>product_main_category</th>\n",
       "      <th>product_subcategory</th>\n",
       "      <th>product_category_filter</th>\n",
       "      <th>product_category_subfilter</th>\n",
       "      <th>product_unique ID</th>\n",
       "      <th>retail_price</th>\n",
       "      <th>discounted_price</th>\n",
       "      <th>product_rating</th>\n",
       "      <th>Brand</th>\n",
       "      <th>product_specifications</th>\n",
       "      <th>description</th>\n",
       "    </tr>\n",
       "  </thead>\n",
       "  <tbody>\n",
       "    <tr>\n",
       "      <th>8896</th>\n",
       "      <td>4db03bc4ccbe216cf151b2f2b904ba3f</td>\n",
       "      <td>East</td>\n",
       "      <td>01-12-2020</td>\n",
       "      <td>04-12-2020</td>\n",
       "      <td>04-12-2020</td>\n",
       "      <td>Luca Fashion Girls Heels</td>\n",
       "      <td>Footwear</td>\n",
       "      <td>Kids' &amp; Infant Footwear</td>\n",
       "      <td>For Girls</td>\n",
       "      <td>Sandals</td>\n",
       "      <td>SNDEHG3DNVBFGAT5</td>\n",
       "      <td>999</td>\n",
       "      <td>499</td>\n",
       "      <td>4.0</td>\n",
       "      <td>Luca Fashion</td>\n",
       "      <td>{\"product_specification\"=&gt;[{\"key\"=&gt;\"Occasion\",...</td>\n",
       "      <td>Key Features of Luca Fashion Girls Heels Occas...</td>\n",
       "    </tr>\n",
       "    <tr>\n",
       "      <th>8897</th>\n",
       "      <td>4d4d6aeb13fa253499d0dd45a5abd87e</td>\n",
       "      <td>West</td>\n",
       "      <td>01-12-2020</td>\n",
       "      <td>04-12-2020</td>\n",
       "      <td>04-12-2020</td>\n",
       "      <td>Shoetopia Girls Sandals</td>\n",
       "      <td>Footwear</td>\n",
       "      <td>Kids' &amp; Infant Footwear</td>\n",
       "      <td>For Girls</td>\n",
       "      <td>Sandals</td>\n",
       "      <td>SNDEG7DRWSX8HFXZ</td>\n",
       "      <td>499</td>\n",
       "      <td>399</td>\n",
       "      <td>4.0</td>\n",
       "      <td>Shoetopia</td>\n",
       "      <td>{\"product_specification\"=&gt;[{\"key\"=&gt;\"Ideal For\"...</td>\n",
       "      <td>Key Features of Shoetopia Girls Sandals Flats ...</td>\n",
       "    </tr>\n",
       "    <tr>\n",
       "      <th>...</th>\n",
       "      <td>...</td>\n",
       "      <td>...</td>\n",
       "      <td>...</td>\n",
       "      <td>...</td>\n",
       "      <td>...</td>\n",
       "      <td>...</td>\n",
       "      <td>...</td>\n",
       "      <td>...</td>\n",
       "      <td>...</td>\n",
       "      <td>...</td>\n",
       "      <td>...</td>\n",
       "      <td>...</td>\n",
       "      <td>...</td>\n",
       "      <td>...</td>\n",
       "      <td>...</td>\n",
       "      <td>...</td>\n",
       "      <td>...</td>\n",
       "    </tr>\n",
       "    <tr>\n",
       "      <th>8904</th>\n",
       "      <td>6b737a4deca1ed0e56c179e66036e994</td>\n",
       "      <td>West</td>\n",
       "      <td>01-12-2020</td>\n",
       "      <td>04-12-2020</td>\n",
       "      <td>04-12-2020</td>\n",
       "      <td>Sinina Chanderi Embroidered Salwar Suit Dupatt...</td>\n",
       "      <td>Clothing</td>\n",
       "      <td>Women's Clothing</td>\n",
       "      <td>Ethnic Wear</td>\n",
       "      <td>Fabric</td>\n",
       "      <td>FABEGGHHGSVCHGFV</td>\n",
       "      <td>2000</td>\n",
       "      <td>1000</td>\n",
       "      <td>3.0</td>\n",
       "      <td>Sinina</td>\n",
       "      <td>{\"product_specification\"=&gt;[{\"key\"=&gt;\"Fabric\", \"...</td>\n",
       "      <td>Key Features of Sinina Chanderi Embroidered Sa...</td>\n",
       "    </tr>\n",
       "    <tr>\n",
       "      <th>8905</th>\n",
       "      <td>a5235ac28d3d5487f54025f9d6b57433</td>\n",
       "      <td>North</td>\n",
       "      <td>01-12-2020</td>\n",
       "      <td>04-12-2020</td>\n",
       "      <td>04-12-2020</td>\n",
       "      <td>Aarushi Fashion Silk Striped Salwar Suit Dupat...</td>\n",
       "      <td>Clothing</td>\n",
       "      <td>Women's Clothing</td>\n",
       "      <td>Ethnic Wear</td>\n",
       "      <td>Fabric</td>\n",
       "      <td>FABEG8GYDAABECZH</td>\n",
       "      <td>2800</td>\n",
       "      <td>1350</td>\n",
       "      <td>4.0</td>\n",
       "      <td>Aarushi Fashion</td>\n",
       "      <td>{\"product_specification\"=&gt;[{\"key\"=&gt;\"Fabric\", \"...</td>\n",
       "      <td>Key Features of Aarushi Fashion Silk Striped S...</td>\n",
       "    </tr>\n",
       "  </tbody>\n",
       "</table>\n",
       "<p>10 rows × 17 columns</p>\n",
       "</div>"
      ],
      "text/plain": [
       "                      Customer_uniq_id Region  Order_Date  \\\n",
       "8896  4db03bc4ccbe216cf151b2f2b904ba3f  East   01-12-2020   \n",
       "8897  4d4d6aeb13fa253499d0dd45a5abd87e   West  01-12-2020   \n",
       "...                                ...    ...         ...   \n",
       "8904  6b737a4deca1ed0e56c179e66036e994   West  01-12-2020   \n",
       "8905  a5235ac28d3d5487f54025f9d6b57433  North  01-12-2020   \n",
       "\n",
       "     Expected_Delivery_Date Delivered_Date  \\\n",
       "8896             04-12-2020     04-12-2020   \n",
       "8897             04-12-2020     04-12-2020   \n",
       "...                     ...            ...   \n",
       "8904             04-12-2020     04-12-2020   \n",
       "8905             04-12-2020     04-12-2020   \n",
       "\n",
       "                                           product_name product_main_category  \\\n",
       "8896                           Luca Fashion Girls Heels             Footwear    \n",
       "8897                            Shoetopia Girls Sandals             Footwear    \n",
       "...                                                 ...                   ...   \n",
       "8904  Sinina Chanderi Embroidered Salwar Suit Dupatt...             Clothing    \n",
       "8905  Aarushi Fashion Silk Striped Salwar Suit Dupat...             Clothing    \n",
       "\n",
       "            product_subcategory product_category_filter  \\\n",
       "8896   Kids' & Infant Footwear               For Girls    \n",
       "8897   Kids' & Infant Footwear               For Girls    \n",
       "...                         ...                     ...   \n",
       "8904          Women's Clothing             Ethnic Wear    \n",
       "8905          Women's Clothing             Ethnic Wear    \n",
       "\n",
       "     product_category_subfilter product_unique ID  retail_price  \\\n",
       "8896                   Sandals   SNDEHG3DNVBFGAT5           999   \n",
       "8897                   Sandals   SNDEG7DRWSX8HFXZ           499   \n",
       "...                         ...               ...           ...   \n",
       "8904                    Fabric   FABEGGHHGSVCHGFV          2000   \n",
       "8905                    Fabric   FABEG8GYDAABECZH          2800   \n",
       "\n",
       "      discounted_price  product_rating            Brand  \\\n",
       "8896               499             4.0     Luca Fashion   \n",
       "8897               399             4.0        Shoetopia   \n",
       "...                ...             ...              ...   \n",
       "8904              1000             3.0           Sinina   \n",
       "8905              1350             4.0  Aarushi Fashion   \n",
       "\n",
       "                                 product_specifications  \\\n",
       "8896  {\"product_specification\"=>[{\"key\"=>\"Occasion\",...   \n",
       "8897  {\"product_specification\"=>[{\"key\"=>\"Ideal For\"...   \n",
       "...                                                 ...   \n",
       "8904  {\"product_specification\"=>[{\"key\"=>\"Fabric\", \"...   \n",
       "8905  {\"product_specification\"=>[{\"key\"=>\"Fabric\", \"...   \n",
       "\n",
       "                                            description  \n",
       "8896  Key Features of Luca Fashion Girls Heels Occas...  \n",
       "8897  Key Features of Shoetopia Girls Sandals Flats ...  \n",
       "...                                                 ...  \n",
       "8904  Key Features of Sinina Chanderi Embroidered Sa...  \n",
       "8905  Key Features of Aarushi Fashion Silk Striped S...  \n",
       "\n",
       "[10 rows x 17 columns]"
      ]
     },
     "execution_count": 113,
     "metadata": {},
     "output_type": "execute_result"
    }
   ],
   "source": [
    "ECom_Data.head(10)\n",
    "ECom_Data.tail(10)"
   ]
  },
  {
   "cell_type": "markdown",
   "id": "48baeda6",
   "metadata": {},
   "source": [
    "#### Ans 1 b)"
   ]
  },
  {
   "cell_type": "code",
   "execution_count": 114,
   "id": "0ac3ef5d",
   "metadata": {},
   "outputs": [
    {
     "name": "stdout",
     "output_type": "stream",
     "text": [
      "(8906, 17)\n",
      "8906 17\n"
     ]
    }
   ],
   "source": [
    "print(ECom_Data.shape)\n",
    "print(len(ECom_Data), len(ECom_Data.loc[0, :]))"
   ]
  },
  {
   "cell_type": "markdown",
   "id": "6aaa54a0",
   "metadata": {},
   "source": [
    "#### Ans  1 c)"
   ]
  },
  {
   "cell_type": "code",
   "execution_count": 115,
   "id": "115627b2",
   "metadata": {},
   "outputs": [
    {
     "name": "stdout",
     "output_type": "stream",
     "text": [
      "Customer_uniq_id : e71017e224688489edfe856f2308806d\n",
      "Region : East \n",
      "Order_Date : 24-10-2021\n",
      "Expected_Delivery_Date : 25-10-2021\n",
      "Delivered_Date : 25-10-2021\n",
      "product_name : Indcrown Net Embroidered Semi-stitched Lehenga Choli Material\n",
      "product_main_category : Clothing \n",
      "product_subcategory :  Women's Clothing \n",
      "product_category_filter :  Ethnic Wear \n",
      "product_category_subfilter :  Fabric \n",
      "product_unique ID : FABEJX2NHNKCYHKA\n",
      "retail_price : 999\n",
      "discounted_price : 699\n",
      "product_rating : 4.0\n",
      "Brand : Indcrown\n",
      "product_specifications : {\"product_specification\"=>[{\"key\"=>\"Fabric\", \"value\"=>\"Net\"}, {\"key\"=>\"Type\", \"value\"=>\"Semi-stitched Lehenga Choli Material\"}, {\"key\"=>\"Pattern\", \"value\"=>\"Embroidered\"}, {\"key\"=>\"Ideal For\", \"value\"=>\"Women's\"}, {\"key\"=>\"Color\", \"value\"=>\"Multicolor\"}, {\"value\"=>\"Dry clean or else Normal Hand Wash\"}, {\"key\"=>\"Other Details\", \"value\"=>\"Lehnga Choli is an Indian traditional ware also known as Chaniya Choli. We at Bolly Lounge offers you to attract compliments by this attractive Lehnga Choli made with fine quality material and beautiful work which can be worn for functions, festivals, parties and even office also. This Lehnga Choli ...View More Lehnga Choli is an Indian traditional ware also known as Chaniya Choli. We at Bolly Lounge offers you to attract compliments by this attractive Lehnga Choli made with fine quality material and beautiful work which can be worn for functions, festivals, parties and even office also. This Lehnga Choli is comes with unstitched material so it can be stitched according to your taste and preference. Stunning Self Designed Partywear Salwar Suit Gives A Trendy Look. Suit Having Fine Embroidery Work Over All. A Fine Fabric Used To Make It, It Will Be Comfortable In All Season.\"}, {\"key\"=>\"Style Code\", \"value\"=>\"R C Lehe Bt\"}, {\"value\"=>\"1 Lehenga Choli And Duppta Set\"}]}\n",
      "description : Key Features of Indcrown Net Embroidered Semi-stitched Lehenga Choli Material Ghagra Choli , Ghagra, Choli, Dupatta Set , Lehenga Choli , Lehenga, Choli and Dupatta Set .,Indcrown Net Embroidered Semi-stitched Lehenga Choli Material (Semi-stitched) Price: Rs. 699 We have not authorised any other seller to sell our brand Indcrown . Any seller doing so is selling fake Indcrown Products. Buy original Indcrown products from the seller \" indcrown‘’ only,Specifications of Indcrown Net Embroidered Semi-stitched Lehenga Choli Material (Semi-stitched) Fabric Details Fabric Net Type Semi-stitched Lehenga Choli Material General Details Pattern Embroidered Ideal For Women's Color Multicolor Fabric Care Dry clean or else Normal Hand Wash Additional Details Other Details Lehnga Choli is an Indian traditional ware also known as Chaniya Choli. We at Bolly Lounge offers you to attract compliments by this attractive Lehnga Choli made with fine quality material and beautiful work which can be worn for functions, festivals, parties and even office also. This Lehnga Choli ...View More Lehnga Choli is an Indian traditional ware also known as Chaniya Choli. We at Bolly Lounge offers you to attract compliments by this attractive Lehnga Choli made with fine quality material and beautiful work which can be worn for functions, festivals, parties and even office also. This Lehnga Choli is comes with unstitched material so it can be stitched according to your taste and preference. Stunning Self Designed Partywear Salwar Suit Gives A Trendy Look. Suit Having Fine Embroidery Work Over All. A Fine Fabric Used To Make It, It Will Be Comfortable In All Season. Style Code R C Lehe Bt In the Box 1 Lehenga Choli And Duppta Set\n"
     ]
    }
   ],
   "source": [
    "for key, value in zip(ECom_Data.columns, ECom_Data.iloc[0,:]):\n",
    "    print(f\"{key} : {value}\")"
   ]
  },
  {
   "cell_type": "markdown",
   "id": "5e63573c",
   "metadata": {},
   "source": [
    "### Ans 1 d)"
   ]
  },
  {
   "cell_type": "code",
   "execution_count": null,
   "id": "2b96d5be",
   "metadata": {},
   "outputs": [],
   "source": []
  },
  {
   "cell_type": "markdown",
   "id": "cc5d76f1",
   "metadata": {},
   "source": [
    "<font color='blue'>\n",
    "    <font size = 5>\n",
    " Once you are familiar with the data, you may decide that not all features are of use to you and you may want to delete the non-informative features (columns)</font>"
   ]
  },
  {
   "cell_type": "markdown",
   "id": "90db65ce",
   "metadata": {},
   "source": [
    "## Q 2.\tEliminating the non-informative columns.\n",
    "## a)\tDrop the columns product_specifications and description. (2 marks) \n",
    "## b)\tWhich method or function is used to permanently delete the columns mentioned in part (a)? Write the code explicitly (2 marks)\n",
    "### Note: Use the markdown feature of Python to explain your answer.\n"
   ]
  },
  {
   "cell_type": "markdown",
   "id": "e0e7e762",
   "metadata": {},
   "source": [
    "### Ans 2 a)"
   ]
  },
  {
   "cell_type": "code",
   "execution_count": 116,
   "id": "35ad0821",
   "metadata": {},
   "outputs": [
    {
     "data": {
      "text/html": [
       "<div>\n",
       "<style scoped>\n",
       "    .dataframe tbody tr th:only-of-type {\n",
       "        vertical-align: middle;\n",
       "    }\n",
       "\n",
       "    .dataframe tbody tr th {\n",
       "        vertical-align: top;\n",
       "    }\n",
       "\n",
       "    .dataframe thead th {\n",
       "        text-align: right;\n",
       "    }\n",
       "</style>\n",
       "<table border=\"1\" class=\"dataframe\">\n",
       "  <thead>\n",
       "    <tr style=\"text-align: right;\">\n",
       "      <th></th>\n",
       "      <th>Customer_uniq_id</th>\n",
       "      <th>Region</th>\n",
       "      <th>Order_Date</th>\n",
       "      <th>Expected_Delivery_Date</th>\n",
       "      <th>Delivered_Date</th>\n",
       "      <th>product_name</th>\n",
       "      <th>product_main_category</th>\n",
       "      <th>product_subcategory</th>\n",
       "      <th>product_category_filter</th>\n",
       "      <th>product_category_subfilter</th>\n",
       "      <th>product_unique ID</th>\n",
       "      <th>retail_price</th>\n",
       "      <th>discounted_price</th>\n",
       "      <th>product_rating</th>\n",
       "      <th>Brand</th>\n",
       "      <th>description</th>\n",
       "    </tr>\n",
       "  </thead>\n",
       "  <tbody>\n",
       "    <tr>\n",
       "      <th>0</th>\n",
       "      <td>e71017e224688489edfe856f2308806d</td>\n",
       "      <td>East</td>\n",
       "      <td>24-10-2021</td>\n",
       "      <td>25-10-2021</td>\n",
       "      <td>25-10-2021</td>\n",
       "      <td>Indcrown Net Embroidered Semi-stitched Lehenga...</td>\n",
       "      <td>Clothing</td>\n",
       "      <td>Women's Clothing</td>\n",
       "      <td>Ethnic Wear</td>\n",
       "      <td>Fabric</td>\n",
       "      <td>FABEJX2NHNKCYHKA</td>\n",
       "      <td>999</td>\n",
       "      <td>699</td>\n",
       "      <td>4.0</td>\n",
       "      <td>Indcrown</td>\n",
       "      <td>Key Features of Indcrown Net Embroidered Semi-...</td>\n",
       "    </tr>\n",
       "    <tr>\n",
       "      <th>1</th>\n",
       "      <td>6286847ee2da18f587503db49511c539</td>\n",
       "      <td>East</td>\n",
       "      <td>24-10-2021</td>\n",
       "      <td>25-10-2021</td>\n",
       "      <td>25-10-2021</td>\n",
       "      <td>Shopmania Music Band A5 Notebook Spiral Bound</td>\n",
       "      <td>Pens &amp; Stationery</td>\n",
       "      <td>Diaries &amp; Notebooks</td>\n",
       "      <td>Notebooks</td>\n",
       "      <td>Designer</td>\n",
       "      <td>DIAEJ6Z8BEDTGGYY</td>\n",
       "      <td>499</td>\n",
       "      <td>275</td>\n",
       "      <td>1.0</td>\n",
       "      <td>Shopmania</td>\n",
       "      <td>Specifications of Shopmania Music Band A5 Note...</td>\n",
       "    </tr>\n",
       "    <tr>\n",
       "      <th>...</th>\n",
       "      <td>...</td>\n",
       "      <td>...</td>\n",
       "      <td>...</td>\n",
       "      <td>...</td>\n",
       "      <td>...</td>\n",
       "      <td>...</td>\n",
       "      <td>...</td>\n",
       "      <td>...</td>\n",
       "      <td>...</td>\n",
       "      <td>...</td>\n",
       "      <td>...</td>\n",
       "      <td>...</td>\n",
       "      <td>...</td>\n",
       "      <td>...</td>\n",
       "      <td>...</td>\n",
       "      <td>...</td>\n",
       "    </tr>\n",
       "    <tr>\n",
       "      <th>8904</th>\n",
       "      <td>6b737a4deca1ed0e56c179e66036e994</td>\n",
       "      <td>West</td>\n",
       "      <td>01-12-2020</td>\n",
       "      <td>04-12-2020</td>\n",
       "      <td>04-12-2020</td>\n",
       "      <td>Sinina Chanderi Embroidered Salwar Suit Dupatt...</td>\n",
       "      <td>Clothing</td>\n",
       "      <td>Women's Clothing</td>\n",
       "      <td>Ethnic Wear</td>\n",
       "      <td>Fabric</td>\n",
       "      <td>FABEGGHHGSVCHGFV</td>\n",
       "      <td>2000</td>\n",
       "      <td>1000</td>\n",
       "      <td>3.0</td>\n",
       "      <td>Sinina</td>\n",
       "      <td>Key Features of Sinina Chanderi Embroidered Sa...</td>\n",
       "    </tr>\n",
       "    <tr>\n",
       "      <th>8905</th>\n",
       "      <td>a5235ac28d3d5487f54025f9d6b57433</td>\n",
       "      <td>North</td>\n",
       "      <td>01-12-2020</td>\n",
       "      <td>04-12-2020</td>\n",
       "      <td>04-12-2020</td>\n",
       "      <td>Aarushi Fashion Silk Striped Salwar Suit Dupat...</td>\n",
       "      <td>Clothing</td>\n",
       "      <td>Women's Clothing</td>\n",
       "      <td>Ethnic Wear</td>\n",
       "      <td>Fabric</td>\n",
       "      <td>FABEG8GYDAABECZH</td>\n",
       "      <td>2800</td>\n",
       "      <td>1350</td>\n",
       "      <td>4.0</td>\n",
       "      <td>Aarushi Fashion</td>\n",
       "      <td>Key Features of Aarushi Fashion Silk Striped S...</td>\n",
       "    </tr>\n",
       "  </tbody>\n",
       "</table>\n",
       "<p>8906 rows × 16 columns</p>\n",
       "</div>"
      ],
      "text/plain": [
       "                      Customer_uniq_id Region  Order_Date  \\\n",
       "0     e71017e224688489edfe856f2308806d  East   24-10-2021   \n",
       "1     6286847ee2da18f587503db49511c539  East   24-10-2021   \n",
       "...                                ...    ...         ...   \n",
       "8904  6b737a4deca1ed0e56c179e66036e994   West  01-12-2020   \n",
       "8905  a5235ac28d3d5487f54025f9d6b57433  North  01-12-2020   \n",
       "\n",
       "     Expected_Delivery_Date Delivered_Date  \\\n",
       "0                25-10-2021     25-10-2021   \n",
       "1                25-10-2021     25-10-2021   \n",
       "...                     ...            ...   \n",
       "8904             04-12-2020     04-12-2020   \n",
       "8905             04-12-2020     04-12-2020   \n",
       "\n",
       "                                           product_name product_main_category  \\\n",
       "0     Indcrown Net Embroidered Semi-stitched Lehenga...             Clothing    \n",
       "1         Shopmania Music Band A5 Notebook Spiral Bound    Pens & Stationery    \n",
       "...                                                 ...                   ...   \n",
       "8904  Sinina Chanderi Embroidered Salwar Suit Dupatt...             Clothing    \n",
       "8905  Aarushi Fashion Silk Striped Salwar Suit Dupat...             Clothing    \n",
       "\n",
       "        product_subcategory product_category_filter  \\\n",
       "0         Women's Clothing             Ethnic Wear    \n",
       "1      Diaries & Notebooks               Notebooks    \n",
       "...                     ...                     ...   \n",
       "8904      Women's Clothing             Ethnic Wear    \n",
       "8905      Women's Clothing             Ethnic Wear    \n",
       "\n",
       "     product_category_subfilter product_unique ID  retail_price  \\\n",
       "0                       Fabric   FABEJX2NHNKCYHKA           999   \n",
       "1                     Designer   DIAEJ6Z8BEDTGGYY           499   \n",
       "...                         ...               ...           ...   \n",
       "8904                    Fabric   FABEGGHHGSVCHGFV          2000   \n",
       "8905                    Fabric   FABEG8GYDAABECZH          2800   \n",
       "\n",
       "      discounted_price  product_rating            Brand  \\\n",
       "0                  699             4.0         Indcrown   \n",
       "1                  275             1.0        Shopmania   \n",
       "...                ...             ...              ...   \n",
       "8904              1000             3.0           Sinina   \n",
       "8905              1350             4.0  Aarushi Fashion   \n",
       "\n",
       "                                            description  \n",
       "0     Key Features of Indcrown Net Embroidered Semi-...  \n",
       "1     Specifications of Shopmania Music Band A5 Note...  \n",
       "...                                                 ...  \n",
       "8904  Key Features of Sinina Chanderi Embroidered Sa...  \n",
       "8905  Key Features of Aarushi Fashion Silk Striped S...  \n",
       "\n",
       "[8906 rows x 16 columns]"
      ]
     },
     "execution_count": 116,
     "metadata": {},
     "output_type": "execute_result"
    }
   ],
   "source": [
    "ECom_Data.drop(['product_specifications'], axis=1)\n"
   ]
  },
  {
   "cell_type": "markdown",
   "id": "e6159f6a",
   "metadata": {},
   "source": [
    "### Ans 2 b)"
   ]
  },
  {
   "cell_type": "code",
   "execution_count": 117,
   "id": "47a63265",
   "metadata": {},
   "outputs": [
    {
     "data": {
      "text/html": [
       "<div>\n",
       "<style scoped>\n",
       "    .dataframe tbody tr th:only-of-type {\n",
       "        vertical-align: middle;\n",
       "    }\n",
       "\n",
       "    .dataframe tbody tr th {\n",
       "        vertical-align: top;\n",
       "    }\n",
       "\n",
       "    .dataframe thead th {\n",
       "        text-align: right;\n",
       "    }\n",
       "</style>\n",
       "<table border=\"1\" class=\"dataframe\">\n",
       "  <thead>\n",
       "    <tr style=\"text-align: right;\">\n",
       "      <th></th>\n",
       "      <th>Customer_uniq_id</th>\n",
       "      <th>Region</th>\n",
       "      <th>Order_Date</th>\n",
       "      <th>Expected_Delivery_Date</th>\n",
       "      <th>Delivered_Date</th>\n",
       "      <th>product_name</th>\n",
       "      <th>product_main_category</th>\n",
       "      <th>product_subcategory</th>\n",
       "      <th>product_category_filter</th>\n",
       "      <th>product_category_subfilter</th>\n",
       "      <th>product_unique ID</th>\n",
       "      <th>retail_price</th>\n",
       "      <th>discounted_price</th>\n",
       "      <th>product_rating</th>\n",
       "      <th>Brand</th>\n",
       "      <th>description</th>\n",
       "    </tr>\n",
       "  </thead>\n",
       "  <tbody>\n",
       "    <tr>\n",
       "      <th>0</th>\n",
       "      <td>e71017e224688489edfe856f2308806d</td>\n",
       "      <td>East</td>\n",
       "      <td>24-10-2021</td>\n",
       "      <td>25-10-2021</td>\n",
       "      <td>25-10-2021</td>\n",
       "      <td>Indcrown Net Embroidered Semi-stitched Lehenga...</td>\n",
       "      <td>Clothing</td>\n",
       "      <td>Women's Clothing</td>\n",
       "      <td>Ethnic Wear</td>\n",
       "      <td>Fabric</td>\n",
       "      <td>FABEJX2NHNKCYHKA</td>\n",
       "      <td>999</td>\n",
       "      <td>699</td>\n",
       "      <td>4.0</td>\n",
       "      <td>Indcrown</td>\n",
       "      <td>Key Features of Indcrown Net Embroidered Semi-...</td>\n",
       "    </tr>\n",
       "    <tr>\n",
       "      <th>1</th>\n",
       "      <td>6286847ee2da18f587503db49511c539</td>\n",
       "      <td>East</td>\n",
       "      <td>24-10-2021</td>\n",
       "      <td>25-10-2021</td>\n",
       "      <td>25-10-2021</td>\n",
       "      <td>Shopmania Music Band A5 Notebook Spiral Bound</td>\n",
       "      <td>Pens &amp; Stationery</td>\n",
       "      <td>Diaries &amp; Notebooks</td>\n",
       "      <td>Notebooks</td>\n",
       "      <td>Designer</td>\n",
       "      <td>DIAEJ6Z8BEDTGGYY</td>\n",
       "      <td>499</td>\n",
       "      <td>275</td>\n",
       "      <td>1.0</td>\n",
       "      <td>Shopmania</td>\n",
       "      <td>Specifications of Shopmania Music Band A5 Note...</td>\n",
       "    </tr>\n",
       "    <tr>\n",
       "      <th>...</th>\n",
       "      <td>...</td>\n",
       "      <td>...</td>\n",
       "      <td>...</td>\n",
       "      <td>...</td>\n",
       "      <td>...</td>\n",
       "      <td>...</td>\n",
       "      <td>...</td>\n",
       "      <td>...</td>\n",
       "      <td>...</td>\n",
       "      <td>...</td>\n",
       "      <td>...</td>\n",
       "      <td>...</td>\n",
       "      <td>...</td>\n",
       "      <td>...</td>\n",
       "      <td>...</td>\n",
       "      <td>...</td>\n",
       "    </tr>\n",
       "    <tr>\n",
       "      <th>8904</th>\n",
       "      <td>6b737a4deca1ed0e56c179e66036e994</td>\n",
       "      <td>West</td>\n",
       "      <td>01-12-2020</td>\n",
       "      <td>04-12-2020</td>\n",
       "      <td>04-12-2020</td>\n",
       "      <td>Sinina Chanderi Embroidered Salwar Suit Dupatt...</td>\n",
       "      <td>Clothing</td>\n",
       "      <td>Women's Clothing</td>\n",
       "      <td>Ethnic Wear</td>\n",
       "      <td>Fabric</td>\n",
       "      <td>FABEGGHHGSVCHGFV</td>\n",
       "      <td>2000</td>\n",
       "      <td>1000</td>\n",
       "      <td>3.0</td>\n",
       "      <td>Sinina</td>\n",
       "      <td>Key Features of Sinina Chanderi Embroidered Sa...</td>\n",
       "    </tr>\n",
       "    <tr>\n",
       "      <th>8905</th>\n",
       "      <td>a5235ac28d3d5487f54025f9d6b57433</td>\n",
       "      <td>North</td>\n",
       "      <td>01-12-2020</td>\n",
       "      <td>04-12-2020</td>\n",
       "      <td>04-12-2020</td>\n",
       "      <td>Aarushi Fashion Silk Striped Salwar Suit Dupat...</td>\n",
       "      <td>Clothing</td>\n",
       "      <td>Women's Clothing</td>\n",
       "      <td>Ethnic Wear</td>\n",
       "      <td>Fabric</td>\n",
       "      <td>FABEG8GYDAABECZH</td>\n",
       "      <td>2800</td>\n",
       "      <td>1350</td>\n",
       "      <td>4.0</td>\n",
       "      <td>Aarushi Fashion</td>\n",
       "      <td>Key Features of Aarushi Fashion Silk Striped S...</td>\n",
       "    </tr>\n",
       "  </tbody>\n",
       "</table>\n",
       "<p>8906 rows × 16 columns</p>\n",
       "</div>"
      ],
      "text/plain": [
       "                      Customer_uniq_id Region  Order_Date  \\\n",
       "0     e71017e224688489edfe856f2308806d  East   24-10-2021   \n",
       "1     6286847ee2da18f587503db49511c539  East   24-10-2021   \n",
       "...                                ...    ...         ...   \n",
       "8904  6b737a4deca1ed0e56c179e66036e994   West  01-12-2020   \n",
       "8905  a5235ac28d3d5487f54025f9d6b57433  North  01-12-2020   \n",
       "\n",
       "     Expected_Delivery_Date Delivered_Date  \\\n",
       "0                25-10-2021     25-10-2021   \n",
       "1                25-10-2021     25-10-2021   \n",
       "...                     ...            ...   \n",
       "8904             04-12-2020     04-12-2020   \n",
       "8905             04-12-2020     04-12-2020   \n",
       "\n",
       "                                           product_name product_main_category  \\\n",
       "0     Indcrown Net Embroidered Semi-stitched Lehenga...             Clothing    \n",
       "1         Shopmania Music Band A5 Notebook Spiral Bound    Pens & Stationery    \n",
       "...                                                 ...                   ...   \n",
       "8904  Sinina Chanderi Embroidered Salwar Suit Dupatt...             Clothing    \n",
       "8905  Aarushi Fashion Silk Striped Salwar Suit Dupat...             Clothing    \n",
       "\n",
       "        product_subcategory product_category_filter  \\\n",
       "0         Women's Clothing             Ethnic Wear    \n",
       "1      Diaries & Notebooks               Notebooks    \n",
       "...                     ...                     ...   \n",
       "8904      Women's Clothing             Ethnic Wear    \n",
       "8905      Women's Clothing             Ethnic Wear    \n",
       "\n",
       "     product_category_subfilter product_unique ID  retail_price  \\\n",
       "0                       Fabric   FABEJX2NHNKCYHKA           999   \n",
       "1                     Designer   DIAEJ6Z8BEDTGGYY           499   \n",
       "...                         ...               ...           ...   \n",
       "8904                    Fabric   FABEGGHHGSVCHGFV          2000   \n",
       "8905                    Fabric   FABEG8GYDAABECZH          2800   \n",
       "\n",
       "      discounted_price  product_rating            Brand  \\\n",
       "0                  699             4.0         Indcrown   \n",
       "1                  275             1.0        Shopmania   \n",
       "...                ...             ...              ...   \n",
       "8904              1000             3.0           Sinina   \n",
       "8905              1350             4.0  Aarushi Fashion   \n",
       "\n",
       "                                            description  \n",
       "0     Key Features of Indcrown Net Embroidered Semi-...  \n",
       "1     Specifications of Shopmania Music Band A5 Note...  \n",
       "...                                                 ...  \n",
       "8904  Key Features of Sinina Chanderi Embroidered Sa...  \n",
       "8905  Key Features of Aarushi Fashion Silk Striped S...  \n",
       "\n",
       "[8906 rows x 16 columns]"
      ]
     },
     "execution_count": 117,
     "metadata": {},
     "output_type": "execute_result"
    }
   ],
   "source": [
    "ECom_Data.drop(['product_specifications'], axis=1,inplace=True)\n",
    "ECom_Data # have to assign or use inplace"
   ]
  },
  {
   "cell_type": "markdown",
   "id": "cde421e0",
   "metadata": {},
   "source": [
    "<font color='blue'>\n",
    "    <font size = 5>\n",
    "        The next steps in this project involves summarization of data at various levels and visualization. Apparently, such simple steps are very useful to get an overall sense of the data.\n",
    "    </font>"
   ]
  },
  {
   "cell_type": "markdown",
   "id": "41c30ad7",
   "metadata": {},
   "source": [
    "## Q 3. Here we summarize the data at Brand level.\n",
    "## a) How many unique Brand are there? (2 marks)\n",
    "## b) Note that each Brand contains multiple products. Show the average product_rating within each Brand (2 marks)\n"
   ]
  },
  {
   "cell_type": "markdown",
   "id": "beb3f83f",
   "metadata": {},
   "source": [
    "### Ans 3 a)"
   ]
  },
  {
   "cell_type": "code",
   "execution_count": 118,
   "id": "41dcb79f",
   "metadata": {},
   "outputs": [
    {
     "data": {
      "text/plain": [
       "2571"
      ]
     },
     "execution_count": 118,
     "metadata": {},
     "output_type": "execute_result"
    }
   ],
   "source": [
    "brands = pd.unique(ECom_Data['Brand'])\n",
    "len(brands)\n",
    "#brands"
   ]
  },
  {
   "cell_type": "markdown",
   "id": "5083d866",
   "metadata": {},
   "source": [
    "### Ans 3 b)"
   ]
  },
  {
   "cell_type": "code",
   "execution_count": 119,
   "id": "10018c2c",
   "metadata": {},
   "outputs": [
    {
     "data": {
      "text/plain": [
       "2571"
      ]
     },
     "execution_count": 119,
     "metadata": {},
     "output_type": "execute_result"
    }
   ],
   "source": [
    "\n",
    "mean_product_rating = [ECom_Data[ECom_Data['Brand'] == brand]['product_rating'].mean() for brand in brands]\n",
    "len(mean_product_rating)\n"
   ]
  },
  {
   "cell_type": "markdown",
   "id": "bbf162af",
   "metadata": {},
   "source": [
    "## Q 4. Next we study the main categories of the products.\n",
    "\n",
    "## a) Create an appropriate plot to show the count of items ordered for each product_main_category. (6 marks).\n",
    "\n",
    "### Hint: Create a bar chart titled \"Product Category type\" where product_main_category are on x-axis and counts are on y-axis.\n",
    "\n",
    "### Note: Both axis labels, i.e. the names of the product_main_category and counts must be clearly legible. \n",
    "\n",
    "## b) From the plot identify for which two product_main_category(s)  maximum and minimum orders were placed. (2 marks)\n",
    "\n",
    "## c) Write code to print out the top 5 product_main_category(s)  in descending order? (3 marks"
   ]
  },
  {
   "cell_type": "code",
   "execution_count": 132,
   "id": "5c65c13f",
   "metadata": {},
   "outputs": [
    {
     "ename": "ValueError",
     "evalue": "Cannot pass values for both `x` and `y`",
     "output_type": "error",
     "traceback": [
      "\u001b[1;31m---------------------------------------------------------------------------\u001b[0m",
      "\u001b[1;31mValueError\u001b[0m                                Traceback (most recent call last)",
      "\u001b[1;32m~\\AppData\\Local\\Temp\\ipykernel_18852\\3710636803.py\u001b[0m in \u001b[0;36m<module>\u001b[1;34m\u001b[0m\n\u001b[0;32m      1\u001b[0m \u001b[0mECom_Data\u001b[0m\u001b[1;33m.\u001b[0m\u001b[0mcolumns\u001b[0m\u001b[1;33m\u001b[0m\u001b[1;33m\u001b[0m\u001b[0m\n\u001b[0;32m      2\u001b[0m \u001b[0mECom_Data\u001b[0m\u001b[1;33m.\u001b[0m\u001b[0mhead\u001b[0m\u001b[1;33m(\u001b[0m\u001b[1;36m5\u001b[0m\u001b[1;33m)\u001b[0m\u001b[1;33m\u001b[0m\u001b[1;33m\u001b[0m\u001b[0m\n\u001b[1;32m----> 3\u001b[1;33m \u001b[0msns\u001b[0m\u001b[1;33m.\u001b[0m\u001b[0mcountplot\u001b[0m\u001b[1;33m(\u001b[0m\u001b[0mx\u001b[0m\u001b[1;33m=\u001b[0m\u001b[0mECom_Data\u001b[0m\u001b[1;33m[\u001b[0m\u001b[1;34m'product_main_category'\u001b[0m\u001b[1;33m]\u001b[0m \u001b[1;33m,\u001b[0m\u001b[0my\u001b[0m\u001b[1;33m=\u001b[0m\u001b[0mECom_Data\u001b[0m\u001b[1;33m)\u001b[0m\u001b[1;33m\u001b[0m\u001b[1;33m\u001b[0m\u001b[0m\n\u001b[0m",
      "\u001b[1;32mc:\\Program Files\\Python\\Python37\\lib\\site-packages\\seaborn\\categorical.py\u001b[0m in \u001b[0;36mcountplot\u001b[1;34m(data, x, y, hue, order, hue_order, orient, color, palette, saturation, width, dodge, ax, **kwargs)\u001b[0m\n\u001b[0;32m   2938\u001b[0m         \u001b[0my\u001b[0m \u001b[1;33m=\u001b[0m \u001b[0mx\u001b[0m\u001b[1;33m\u001b[0m\u001b[1;33m\u001b[0m\u001b[0m\n\u001b[0;32m   2939\u001b[0m     \u001b[1;32melif\u001b[0m \u001b[0mx\u001b[0m \u001b[1;32mis\u001b[0m \u001b[1;32mnot\u001b[0m \u001b[1;32mNone\u001b[0m \u001b[1;32mand\u001b[0m \u001b[0my\u001b[0m \u001b[1;32mis\u001b[0m \u001b[1;32mnot\u001b[0m \u001b[1;32mNone\u001b[0m\u001b[1;33m:\u001b[0m\u001b[1;33m\u001b[0m\u001b[1;33m\u001b[0m\u001b[0m\n\u001b[1;32m-> 2940\u001b[1;33m         \u001b[1;32mraise\u001b[0m \u001b[0mValueError\u001b[0m\u001b[1;33m(\u001b[0m\u001b[1;34m\"Cannot pass values for both `x` and `y`\"\u001b[0m\u001b[1;33m)\u001b[0m\u001b[1;33m\u001b[0m\u001b[1;33m\u001b[0m\u001b[0m\n\u001b[0m\u001b[0;32m   2941\u001b[0m \u001b[1;33m\u001b[0m\u001b[0m\n\u001b[0;32m   2942\u001b[0m     plotter = _CountPlotter(\n",
      "\u001b[1;31mValueError\u001b[0m: Cannot pass values for both `x` and `y`"
     ]
    }
   ],
   "source": [
    "ECom_Data.columns\n",
    "ECom_Data.head(5)\n"
   ]
  },
  {
   "cell_type": "code",
   "execution_count": null,
   "id": "434ee468",
   "metadata": {},
   "outputs": [],
   "source": []
  },
  {
   "cell_type": "markdown",
   "id": "36c72928",
   "metadata": {},
   "source": [
    "### Ans 4 a)"
   ]
  },
  {
   "cell_type": "code",
   "execution_count": null,
   "id": "f60dd2c1",
   "metadata": {},
   "outputs": [],
   "source": []
  },
  {
   "cell_type": "markdown",
   "id": "13a5b355",
   "metadata": {},
   "source": [
    "### Ans 4 b)"
   ]
  },
  {
   "cell_type": "code",
   "execution_count": null,
   "id": "24d3f75c",
   "metadata": {},
   "outputs": [],
   "source": []
  },
  {
   "cell_type": "markdown",
   "id": "4ea60c92",
   "metadata": {},
   "source": [
    "### Ans 4 c)"
   ]
  },
  {
   "cell_type": "code",
   "execution_count": null,
   "id": "7f704116",
   "metadata": {},
   "outputs": [],
   "source": []
  },
  {
   "cell_type": "markdown",
   "id": "a9f81605",
   "metadata": {},
   "source": [
    "<font color='blue'>\n",
    "    <font size = 5>\n",
    "    In E-commerce, both the retailers (here brands) and the company have to make profit to sustain in the business. \n",
    "    The E-Commerce company has the following rule for computing their own revenue: </font> \n",
    "    \n",
    "####     The company charges  \n",
    "####  (i) 25% on the orders having final price (discounted price) greater than 600\n",
    "\n",
    "#### (ii) 15% on the orders having final price (discounted price) greater than 350 but less than or equal to 600\n",
    "\n",
    "#### (iii) 10% on the orders having final price (discounted price) greater than 100 but less than or equal to 350\n",
    "\n",
    "#### (iv) Otherwise, 5% on the final price (discounted price)    </font> "
   ]
  },
  {
   "cell_type": "markdown",
   "id": "0f255fea",
   "metadata": {},
   "source": [
    "## Q 5. Find the Total Revenue generated by the E-Commerce company over all orders placed. (6 marks)\n",
    "\n",
    "#### Hint: Calculate revenue of E-commerce company using the conditions mentioned above and then do the total (sum) of all to get total Revenue. "
   ]
  },
  {
   "cell_type": "markdown",
   "id": "1f6b8028",
   "metadata": {},
   "source": [
    "### Ans 5"
   ]
  },
  {
   "cell_type": "code",
   "execution_count": null,
   "id": "c62d888f",
   "metadata": {},
   "outputs": [],
   "source": []
  },
  {
   "cell_type": "markdown",
   "id": "9161ca8c",
   "metadata": {},
   "source": [
    "<font color='blue'>\n",
    "    <font size = 5>\n",
    "    Now you need to find the revenue for each retailer (Brand)\n",
    "    </font>"
   ]
  },
  {
   "cell_type": "markdown",
   "id": "73dd23c3",
   "metadata": {},
   "source": [
    "## Q6.Calculate the total BrandRevenue and list the top 10 Brand having maximum revenue in descending order (6 marks)\n",
    "#### Hint: Total BrandRevenue is BrandRevenue which is generated after all the deductions. Also, BrandRevenue is different from the E-Commerce company's revenue.\n",
    "#### Brand Revenue is the discounted price minus the Revenue (generated using the conditions given above Q5)\n"
   ]
  },
  {
   "cell_type": "markdown",
   "id": "3514fa79",
   "metadata": {},
   "source": [
    "### Ans 6"
   ]
  },
  {
   "cell_type": "code",
   "execution_count": null,
   "id": "437c69b5",
   "metadata": {},
   "outputs": [],
   "source": []
  },
  {
   "cell_type": "markdown",
   "id": "2a2bbd83",
   "metadata": {},
   "source": [
    "<font color='blue'>\n",
    "    <font size = 5>\n",
    "Let us now investigate multiple features for each product to determine any pattern.\n",
    "</font>"
   ]
  },
  {
   "cell_type": "markdown",
   "id": "1aa1834b",
   "metadata": {},
   "source": [
    "## Q 7. Compare prices for each product.\n",
    "\n",
    "## a)\tDraw boxplots of retail_price & discounted_price. (3 marks)\n",
    "\n",
    "## b)\t Are there any outliers? (Yes/No) (1mark)\n",
    "\n",
    "## c)\tCreate a scatterplot of retail_price (x-axis) and discounted_price (y-axis) (3 marks)\n"
   ]
  },
  {
   "cell_type": "markdown",
   "id": "d5aae861",
   "metadata": {},
   "source": [
    "### Ans 7 a)"
   ]
  },
  {
   "cell_type": "code",
   "execution_count": null,
   "id": "510fd4d0",
   "metadata": {},
   "outputs": [],
   "source": []
  },
  {
   "cell_type": "markdown",
   "id": "78b92e7c",
   "metadata": {},
   "source": [
    "### Ans 7 b)"
   ]
  },
  {
   "cell_type": "code",
   "execution_count": null,
   "id": "0af7c034",
   "metadata": {},
   "outputs": [],
   "source": []
  },
  {
   "cell_type": "markdown",
   "id": "0389c9b8",
   "metadata": {},
   "source": [
    "### Ans 7 c)"
   ]
  },
  {
   "cell_type": "code",
   "execution_count": null,
   "id": "d8c44be9",
   "metadata": {},
   "outputs": [],
   "source": []
  },
  {
   "cell_type": "markdown",
   "id": "3bc47f55",
   "metadata": {},
   "source": [
    "<font color='blue'>\n",
    "    <font size = 5>\n",
    "    The next steps will enable to study brand-level information.\n",
    "    </font>"
   ]
  },
  {
   "cell_type": "markdown",
   "id": "b9bd00f7",
   "metadata": {},
   "source": [
    "## Q 8. Create a new dataframe to include the Brand specific information as stated:\n",
    "## i.\ttotal number of orders placed per Brand\n",
    "## ii.\ttotal retail_price per Brand\n",
    "## iii.\ttotal discounted_price per Brand, and \n",
    "## iv.\ttotal BrandRevenue generated per Brand. \n",
    "\n",
    "## Also, draw a pairplot using these four features. (6 marks)\n"
   ]
  },
  {
   "cell_type": "markdown",
   "id": "8f83cea9",
   "metadata": {},
   "source": [
    "### Ans 8"
   ]
  },
  {
   "cell_type": "code",
   "execution_count": null,
   "id": "ae749847",
   "metadata": {},
   "outputs": [],
   "source": []
  },
  {
   "cell_type": "markdown",
   "id": "ecec83f4",
   "metadata": {},
   "source": [
    "<font color='blue'>\n",
    "    <font size = 5>\n",
    "    The E-Commerce company operate in multiple regions. It is important to understand its performance in each region.\n",
    "    </font>"
   ]
  },
  {
   "cell_type": "markdown",
   "id": "dd09b8aa",
   "metadata": {},
   "source": [
    "## Q 9.Compare performance regionwise\n",
    "\n",
    "## a)\tDraw a lineplot for the monthly Revenue of E-Commerce Company for each region separately.  (4 marks) \n",
    "\n",
    "## b)\tIdentify the best and the worst performing months for each region. (2 marks)\n",
    "\n",
    "#### Note: Only those days with actual orders(Order_Date) placed are present in the dataset. Assuming there were no orders on other days"
   ]
  },
  {
   "cell_type": "markdown",
   "id": "e6d64aea",
   "metadata": {},
   "source": [
    "### Ans 9 a)"
   ]
  },
  {
   "cell_type": "code",
   "execution_count": null,
   "id": "d9a4f534",
   "metadata": {},
   "outputs": [],
   "source": []
  },
  {
   "cell_type": "markdown",
   "id": "dac59dc4",
   "metadata": {},
   "source": [
    "### Ans 9 b)"
   ]
  },
  {
   "cell_type": "code",
   "execution_count": null,
   "id": "9f569635",
   "metadata": {},
   "outputs": [],
   "source": []
  },
  {
   "cell_type": "markdown",
   "id": "dcb8d39f",
   "metadata": {},
   "source": [
    "<font color='blue'>\n",
    "    <font size = 5>\n",
    "    Congratulations! You have learnt how to approach a complex data and extract information out of it. \n",
    "    </font>"
   ]
  }
 ],
 "metadata": {
  "kernelspec": {
   "display_name": "Python 3.7.5 64-bit",
   "language": "python",
   "name": "python3"
  },
  "language_info": {
   "codemirror_mode": {
    "name": "ipython",
    "version": 3
   },
   "file_extension": ".py",
   "mimetype": "text/x-python",
   "name": "python",
   "nbconvert_exporter": "python",
   "pygments_lexer": "ipython3",
   "version": "3.7.5"
  },
  "vscode": {
   "interpreter": {
    "hash": "ce443e4b40327a5fc86282713896d8ad413115b75c1c5be4a78c2a5c00adb138"
   }
  }
 },
 "nbformat": 4,
 "nbformat_minor": 5
}
